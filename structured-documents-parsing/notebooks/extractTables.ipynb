{
 "cells": [
  {
   "cell_type": "code",
   "execution_count": 1,
   "metadata": {
    "collapsed": true
   },
   "outputs": [],
   "source": [
    "from xml.dom import minidom\n",
    "from collections import Counter\n",
    "import glob\n",
    "import os\n",
    "import sys\n",
    "oldstderr = sys.stderr\n",
    "sys.stderr = open('logs/log_stderr.log', 'w')\n",
    "\n",
    "import tika\n",
    "from tika import detector\n",
    "from tika import parser\n",
    "import tabula\n",
    "from tqdm import tqdm_notebook as tqdm\n",
    "\n",
    "from utils import *"
   ]
  },
  {
   "cell_type": "code",
   "execution_count": 2,
   "metadata": {
    "collapsed": true
   },
   "outputs": [],
   "source": [
    "tika.initVM()"
   ]
  },
  {
   "cell_type": "code",
   "execution_count": 3,
   "metadata": {
    "collapsed": true
   },
   "outputs": [],
   "source": [
    "error_file = open('logs/error.log', 'w')\n",
    "def parse_doc(doc):\n",
    "    parsed = parser.from_file(doc, xmlContent=True)\n",
    "    try:\n",
    "        xmls = split_str2xml(parsed['content'])\n",
    "        all_tabs = []\n",
    "        for xml in xmls:\n",
    "            try:\n",
    "                xmldoc = minidom.parseString(xml)\n",
    "                tables = xmldoc.getElementsByTagName('table')\n",
    "                all_tabs+= list(tables)\n",
    "            except Exception as e:\n",
    "                error_file.write(f'From: {doc}')\n",
    "                pass\n",
    "        return all_tabs\n",
    "    except KeyError as e:\n",
    "        error_file.write(f'No content found for {doc}')\n",
    "        return []"
   ]
  },
  {
   "cell_type": "code",
   "execution_count": 4,
   "metadata": {
    "collapsed": true
   },
   "outputs": [],
   "source": [
    "def extract_tables_pdf(pdf_doc):\n",
    "    try:\n",
    "        tables = tabula.read_pdf(pdf_doc, pages='all', output_format='json')\n",
    "    except Exception as e:\n",
    "        tables = []\n",
    "        error_file.write(f'From PDF: {pdf_doc}')\n",
    "    return list(map(json2xml, tables))"
   ]
  },
  {
   "cell_type": "code",
   "execution_count": 5,
   "metadata": {},
   "outputs": [
    {
     "data": {
      "application/vnd.jupyter.widget-view+json": {
       "model_id": "a1f3c33a9cfa4cdf98f5c766542130dc",
       "version_major": 2,
       "version_minor": 0
      },
      "text/plain": [
       "A Jupyter Widget"
      ]
     },
     "metadata": {},
     "output_type": "display_data"
    },
    {
     "name": "stdout",
     "output_type": "stream",
     "text": [
      "No content found for ../docs/Documents/nonProcessed/05) Employee-Internal/05) ISACA/CISSP/Access_Control.ppt\n",
      "No content found for ../docs/Documents/nonProcessed/05) Employee-Internal/05) ISACA/CISSP/Security_Management.ppt\n",
      "\n",
      "Counter({'text/vnd.graphviz': 431, 'application/json': 22, 'application/zip': 17, 'application/vnd.openxmlformats-officedocument.spreadsheetml.sheet': 16, 'text/plain': 2, 'application/vnd.visio': 2, 'application/vnd.ms-excel': 2, 'application/x-tika-msoffice': 2, 'text/html': 1, 'text/x-web-markdown': 1, 'application/x-tika-ooxml-protected': 1, 'video/quicktime': 1, 'application/rtf': 1, 'image/jpeg': 1, 'application/epub+zip': 1, 'application/vnd.oasis.opendocument.presentation': 1})\n"
     ]
    }
   ],
   "source": [
    "interest_type = {\n",
    "    'application/vnd.oasis.opendocument.text',  # .odt\n",
    "    'application/vnd.openxmlformats-officedocument.wordprocessingml.document',  #.docx\n",
    "    'application/vnd.openxmlformats-officedocument.presentationml.presentation',  #.pptx\n",
    "    'application/vnd.ms-powerpoint',  # .ppt\n",
    "    'application/msword'  # .doc\n",
    "}\n",
    "all_tables = []\n",
    "non_parsed_type = Counter()\n",
    "for file in tqdm(glob.glob('../docs/**/*', recursive=True)):\n",
    "    if not os.path.isdir(file):\n",
    "        detected_type = detector.from_file(file)\n",
    "        if detected_type == 'application/pdf':\n",
    "            all_tables+= extract_tables_pdf(file)\n",
    "        elif detected_type in interest_type:\n",
    "            all_tables+= [table.toxml() for table in parse_doc(file)]\n",
    "        else:\n",
    "            non_parsed_type.update([detected_type])\n",
    "print(non_parsed_type)  "
   ]
  },
  {
   "cell_type": "code",
   "execution_count": 6,
   "metadata": {
    "collapsed": true
   },
   "outputs": [
    {
     "data": {
      "text/plain": [
       "2192"
      ]
     },
     "execution_count": 6,
     "metadata": {},
     "output_type": "execute_result"
    }
   ],
   "source": [
    "len(all_tables)"
   ]
  },
  {
   "cell_type": "code",
   "execution_count": null,
   "metadata": {
    "collapsed": true
   },
   "outputs": [],
   "source": []
  }
 ],
 "metadata": {
  "kernelspec": {
   "display_name": "Python 3",
   "language": "python",
   "name": "python3"
  },
  "language_info": {
   "codemirror_mode": {
    "name": "ipython",
    "version": 3
   },
   "file_extension": ".py",
   "mimetype": "text/x-python",
   "name": "python",
   "nbconvert_exporter": "python",
   "pygments_lexer": "ipython3",
   "version": "3.6.6"
  }
 },
 "nbformat": 4,
 "nbformat_minor": 2
}
