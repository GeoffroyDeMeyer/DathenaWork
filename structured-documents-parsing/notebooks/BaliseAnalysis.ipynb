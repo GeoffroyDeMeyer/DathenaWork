{
 "cells": [
  {
   "cell_type": "markdown",
   "metadata": {},
   "source": [
    "This notebook look at all the balis found in document and extract statisics about them."
   ]
  },
  {
   "cell_type": "code",
   "execution_count": 13,
   "metadata": {},
   "outputs": [],
   "source": [
    "%matplotlib inline\n",
    "from xml.dom import minidom\n",
    "from tika import parser\n",
    "import glob\n",
    "import os\n",
    "import tika\n",
    "from collections import Counter\n",
    "from xml.dom import Node\n",
    "from tqdm import tqdm_notebook as tqdm\n",
    "from utils import *"
   ]
  },
  {
   "cell_type": "code",
   "execution_count": 2,
   "metadata": {},
   "outputs": [],
   "source": [
    "import warnings\n",
    "warnings.filterwarnings(\"ignore\")"
   ]
  },
  {
   "cell_type": "code",
   "execution_count": 3,
   "metadata": {},
   "outputs": [
    {
     "data": {
      "text/plain": [
       "[('gml', 431), ('pdf', 249), ('pptx', 82), ('doc', 46), ('ppt', 34)]"
      ]
     },
     "execution_count": 3,
     "metadata": {},
     "output_type": "execute_result"
    }
   ],
   "source": [
    "files = glob.glob('../docs/**/*', recursive=True)\n",
    "files = filter(lambda file: not os.path.isdir(file), files)\n",
    "file_counter = Counter(map(lambda x: x.split('.')[-1], files))\n",
    "file_counter.most_common(5)"
   ]
  },
  {
   "cell_type": "code",
   "execution_count": 4,
   "metadata": {},
   "outputs": [],
   "source": [
    "tika.initVM()"
   ]
  },
  {
   "cell_type": "code",
   "execution_count": 5,
   "metadata": {},
   "outputs": [
    {
     "name": "stderr",
     "output_type": "stream",
     "text": [
      "2018-11-28 09:10:06,582 [MainThread  ] [INFO ]  Retrieving http://search.maven.org/remotecontent?filepath=org/apache/tika/tika-server/1.19/tika-server-1.19.jar.md5 to /tmp/tika-server.jar.md5.\n",
      "2018-11-28 09:10:07,078 [MainThread  ] [INFO ]  Retrieving http://search.maven.org/remotecontent?filepath=org/apache/tika/tika-server/1.19/tika-server-1.19.jar to /tmp/tika-server.jar.\n",
      "2018-11-28 09:10:21,201 [MainThread  ] [WARNI]  Failed to see startup log message; retrying...\n"
     ]
    }
   ],
   "source": [
    "c = Counter()\n",
    "def flat(node):\n",
    "    for x in node.childNodes:\n",
    "        if x.nodeType == Node.ELEMENT_NODE:\n",
    "            #print(x.tagName)\n",
    "            #print(x.attributes.items())\n",
    "            c.update([x.tagName])\n",
    "            for g in flat(x):\n",
    "                yield g\n",
    "            yield x.tagName\n",
    "for file in glob.glob('../docs/**/*.doc', recursive=True):\n",
    "    try:\n",
    "        parsed = parser.from_file(file, xmlContent=True)\n",
    "        # print(parsed['content'])\n",
    "        xmldoc = minidom.parseString(parsed['content'])\n",
    "        c.update(flat(xmldoc))\n",
    "    except Exception as e:\n",
    "        pass\n",
    "        #print(f'Exception {e} with {file}')"
   ]
  },
  {
   "cell_type": "code",
   "execution_count": 7,
   "metadata": {},
   "outputs": [
    {
     "data": {
      "text/plain": [
       "Counter({'a': 206,\n",
       "         'b': 14782,\n",
       "         'body': 48,\n",
       "         'div': 70,\n",
       "         'h1': 12,\n",
       "         'h2': 2,\n",
       "         'h3': 22,\n",
       "         'head': 48,\n",
       "         'html': 48,\n",
       "         'i': 548,\n",
       "         'meta': 2348,\n",
       "         'p': 11646,\n",
       "         'table': 28,\n",
       "         'tbody': 28,\n",
       "         'td': 1320,\n",
       "         'title': 48,\n",
       "         'tr': 350,\n",
       "         'u': 740})"
      ]
     },
     "execution_count": 7,
     "metadata": {},
     "output_type": "execute_result"
    }
   ],
   "source": [
    "c#['table']"
   ]
  },
  {
   "cell_type": "markdown",
   "metadata": {},
   "source": [
    "# Doc2Graph\n",
    "Construct graph where each node is connected to next node and previous node, his direct parent, and his direct children. In order not to lose the sense of the graph each ending node of a block are conected to a special kind of node beginingNode and endingNode "
   ]
  },
  {
   "cell_type": "code",
   "execution_count": 8,
   "metadata": {},
   "outputs": [],
   "source": [
    "import networkx as nx"
   ]
  },
  {
   "cell_type": "code",
   "execution_count": 9,
   "metadata": {},
   "outputs": [],
   "source": [
    "node_id = 1\n",
    "parent = 0\n",
    "def rec_graph(xml_node):\n",
    "    global node_id\n",
    "    global parent\n",
    "    root = node_id\n",
    "    G = nx.Graph()\n",
    "    G.add_node(node_id, tag='Begining')\n",
    "    G.add_edge(parent, node_id, relation='parent')\n",
    "    prev_node_id = node_id\n",
    "    node_id+=1\n",
    "    for x in xml_node.childNodes:\n",
    "        if x.nodeType != Node.TEXT_NODE:\n",
    "            #print(type(x.tagName))\n",
    "            G.add_node(node_id, tag=x.tagName)\n",
    "            G.add_edge(prev_node_id, node_id, relation='siblings')\n",
    "            G.add_edge(node_id, parent, relation='parent')\n",
    "            prev_node_id = node_id\n",
    "            node_id+=1\n",
    "            if x.nodeType == Node.ELEMENT_NODE:\n",
    "                prev_parent = parent\n",
    "                parent = node_id - 1\n",
    "                g_child, root = rec_graph(x)\n",
    "                G = nx.compose(G, g_child)\n",
    "                parent = prev_parent\n",
    "        else:\n",
    "            G.add_node(node_id, tag='text', value=x.data)\n",
    "            G.add_edge(prev_node_id, node_id, relation='siblings')\n",
    "            G.add_edge(node_id, parent, relation='parent')\n",
    "            prev_node_id = node_id\n",
    "            node_id+=1\n",
    "    G.add_node(node_id, tag='Ending')\n",
    "    G.add_edge(node_id, parent, relation='parent')\n",
    "    G.add_edge(node_id, prev_node_id, relation='siblings')\n",
    "    node_id+=1\n",
    "    return G, root\n",
    "G, root = rec_graph(xmldoc)"
   ]
  },
  {
   "cell_type": "code",
   "execution_count": null,
   "metadata": {},
   "outputs": [],
   "source": [
    "# This cell takes time to be executed\n",
    "for file in glob.glob('../docs/**/*.pptx', recursive=True):\n",
    "    #print(file)\n",
    "    try:\n",
    "        parsed = parser.from_file(file, xmlContent=True)\n",
    "        # print(parsed['content'])\n",
    "        # print(\"============================================\")\n",
    "        xmls = split_str2xml(parsed['content'])\n",
    "        for i, xml in enumerate(xmls):\n",
    "            xmldoc = minidom.parseString(xml)\n",
    "            G, root = rec_graph(xmldoc)\n",
    "            #print(xml)\n",
    "            #print(\"==================\")\n",
    "            nx.write_gml(G, f'{file}-part{i}.gml')\n",
    "    except Exception as e:\n",
    "        raise e\n",
    "        print(f\"error with: {file}\")\n",
    "        #pass\n",
    "        #print(f'Exception {e} with {file}')"
   ]
  },
  {
   "cell_type": "code",
   "execution_count": null,
   "metadata": {},
   "outputs": [],
   "source": [
    "nx.draw(G)"
   ]
  },
  {
   "cell_type": "code",
   "execution_count": null,
   "metadata": {},
   "outputs": [],
   "source": []
  }
 ],
 "metadata": {
  "kernelspec": {
   "display_name": "Python 3",
   "language": "python",
   "name": "python3"
  },
  "language_info": {
   "codemirror_mode": {
    "name": "ipython",
    "version": 3
   },
   "file_extension": ".py",
   "mimetype": "text/x-python",
   "name": "python",
   "nbconvert_exporter": "python",
   "pygments_lexer": "ipython3",
   "version": "3.6.6"
  }
 },
 "nbformat": 4,
 "nbformat_minor": 2
}
